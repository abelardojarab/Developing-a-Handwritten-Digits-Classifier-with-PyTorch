{
 "cells": [
  {
   "cell_type": "markdown",
   "metadata": {},
   "source": [
    "# Introduction\n",
    "\n",
    "In this project, you will build a neural network of your own design to evaluate the MNIST dataset.\n",
    "\n",
    "Some of the benchmark results on MNIST include can be found [on Yann LeCun's page](http://yann.lecun.com/exdb/mnist/) and include:\n",
    "\n",
    "88% [Lecun et al., 1998](http://yann.lecun.com/exdb/publis/pdf/lecun-98.pdf)\n",
    "95.3% [Lecun et al., 1998](http://yann.lecun.com/exdb/publis/pdf/lecun-98.pdf)\n",
    "99.65% [Ciresan et al., 2011](http://people.idsia.ch/~juergen/ijcai2011.pdf)\n",
    "\n",
    "MNIST is a great dataset for sanity checking your models, since the accuracy levels achieved by large convolutional neural networks and small linear models are both quite high. This makes it important to be familiar with the data.\n",
    "\n",
    "## Imports"
   ]
  },
  {
   "cell_type": "code",
   "execution_count": 1,
   "metadata": {},
   "outputs": [],
   "source": [
    "## This cell contains the essential imports you will need – DO NOT CHANGE THE CONTENTS! ##\n",
    "import torch\n",
    "import torch.nn as nn\n",
    "import torch.nn.functional as F\n",
    "import torch.optim as optim\n",
    "import torchvision\n",
    "import torchvision.transforms as transforms\n",
    "import matplotlib.pyplot as plt\n",
    "import numpy as np\n",
    "from torch.utils.data import DataLoader, random_split\n",
    "from sklearn.metrics import confusion_matrix\n",
    "import seaborn as sns\n",
    "import pandas as pd\n",
    "import random"
   ]
  },
  {
   "cell_type": "code",
   "execution_count": 2,
   "metadata": {},
   "outputs": [
    {
     "data": {
      "text/plain": [
       "device(type='cuda')"
      ]
     },
     "execution_count": 2,
     "metadata": {},
     "output_type": "execute_result"
    }
   ],
   "source": [
    "device = torch.device('cuda' if torch.cuda.is_available() else 'cpu')\n",
    "device"
   ]
  },
  {
   "cell_type": "markdown",
   "metadata": {},
   "source": [
    "## Load the Dataset\n",
    "\n",
    "Specify your transforms as a list if you intend to .\n",
    "The transforms module is already loaded as `transforms`.\n",
    "\n",
    "MNIST is fortunately included in the torchvision module.\n",
    "Then, you can create your dataset using the `MNIST` object from `torchvision.datasets` ([the documentation is available here](https://pytorch.org/vision/stable/datasets.html#mnist)).\n",
    "Make sure to specify `download=True`! \n",
    "\n",
    "Once your dataset is created, you'll also need to define a `DataLoader` from the `torch.utils.data` module for both the train and the test set."
   ]
  },
  {
   "cell_type": "code",
   "execution_count": null,
   "metadata": {},
   "outputs": [],
   "source": [
    "# Defining transforms\n",
    "transform = transforms.Compose([transforms.ToTensor(), transforms.Normalize((0.5,), (0.5,)),\n",
    "                                transforms.Lambda(lambda x: x.view(-1))])\n",
    "\n",
    "# Loading the datasets\n",
    "mnist_dataset = torchvision.datasets.MNIST(root=\"data\", train=True, download=True, transform=transform)\n",
    "test_dataset = torchvision.datasets.MNIST(root=\"data\", train=False, download=True, transform=transform)\n",
    "\n",
    "# Defining the sizes of train, validation, and test sets\n",
    "train_size = int(0.7 * len(mnist_dataset))  # 70% for training\n",
    "val_size = int(0.3 * len(mnist_dataset))    # 30% for validation\n",
    "\n",
    "# Splitting the MNIST dataset \n",
    "train_dataset, val_dataset = random_split(mnist_dataset, [train_size, val_size])\n",
    "\n",
    "# Create test set and define test dataloader\n",
    "train_loader = DataLoader(train_dataset, batch_size=128, shuffle=True)\n",
    "val_loader = DataLoader(val_dataset, batch_size=128)\n",
    "\n",
    "test_loader = DataLoader(test_dataset, batch_size=128, shuffle=True)"
   ]
  },
  {
   "cell_type": "markdown",
   "metadata": {},
   "source": [
    "## Justify your preprocessing\n",
    "\n",
    "In your own words, why did you choose the transforms you chose? If you didn't use any preprocessing steps, why not?"
   ]
  },
  {
   "cell_type": "markdown",
   "metadata": {},
   "source": [
    "We decided to use ToTensor() to convert the images to tensors. Next we used the torchvision.transforms.Normalize() to normalize the images for 0.5 standard deviation and 0.5 mean. Finally, we used Lambda to flatten the images as 1D tensors."
   ]
  },
  {
   "cell_type": "markdown",
   "metadata": {},
   "source": [
    "## Explore the Dataset\n",
    "Using matplotlib, numpy, and torch, explore the dimensions of your data.\n",
    "\n",
    "You can view images using the `show5` function defined below – it takes a data loader as an argument.\n",
    "Remember that normalized images will look really weird to you! You may want to try changing your transforms to view images.\n",
    "Typically using no transforms other than `toTensor()` works well for viewing – but not as well for training your network.\n",
    "If `show5` doesn't work, go back and check your code for creating your data loaders and your training/test sets."
   ]
  },
  {
   "cell_type": "code",
   "execution_count": 13,
   "metadata": {},
   "outputs": [],
   "source": [
    "## This cell contains a function for showing 5 images from a dataloader – DO NOT CHANGE THE CONTENTS! ##\n",
    "## Unfortunately, we did change the function as we had flattened the images in the previous cell as 1D tensors. ##\n",
    "import matplotlib.pyplot as plt\n",
    "\n",
    "def show5(img_loader):\n",
    "    dataiter = iter(img_loader)\n",
    "    batch = next(dataiter)\n",
    "    \n",
    "    labels = batch[1][0:5]  # Get the first 5 labels\n",
    "    images = batch[0][0:5]  # Get the first 5 images\n",
    "    \n",
    "    for i in range(5):\n",
    "        print(f\"Label: {int(labels[i].detach())}\")  # Print the label\n",
    "        \n",
    "        # Reshape the flattened image back to 28x28\n",
    "        image = images[i].numpy().reshape(28, 28)\n",
    "        \n",
    "        # Display the image\n",
    "        plt.imshow(image, cmap=\"gray\")  # Use grayscale colormap\n",
    "        plt.axis('off')  # Turn off axis\n",
    "        plt.show()\n"
   ]
  },
  {
   "cell_type": "code",
   "execution_count": 14,
   "metadata": {},
   "outputs": [
    {
     "name": "stdout",
     "output_type": "stream",
     "text": [
      "Label: 7\n"
     ]
    },
    {
     "data": {
      "image/png": "[encoded data removed]",
      "text/plain": [
       "<Figure size 432x288 with 1 Axes>"
      ]
     },
     "metadata": {
      "needs_background": "light"
     },
     "output_type": "display_data"
    },
    {
     "name": "stdout",
     "output_type": "stream",
     "text": [
      "Label: 8\n"
     ]
    },
    {
     "data": {
      "image/png": "[encoded data removed]",
      "text/plain": [
       "<Figure size 432x288 with 1 Axes>"
      ]
     },
     "metadata": {
      "needs_background": "light"
     },
     "output_type": "display_data"
    },
    {
     "name": "stdout",
     "output_type": "stream",
     "text": [
      "Label: 1\n"
     ]
    },
    {
     "data": {
      "image/png": "[encoded data removed]",
      "text/plain": [
       "<Figure size 432x288 with 1 Axes>"
      ]
     },
     "metadata": {
      "needs_background": "light"
     },
     "output_type": "display_data"
    },
    {
     "name": "stdout",
     "output_type": "stream",
     "text": [
      "Label: 6\n"
     ]
    },
    {
     "data": {
      "image/png": "[encoded data removed]",
      "text/plain": [
       "<Figure size 432x288 with 1 Axes>"
      ]
     },
     "metadata": {
      "needs_background": "light"
     },
     "output_type": "display_data"
    },
    {
     "name": "stdout",
     "output_type": "stream",
     "text": [
      "Label: 8\n"
     ]
    },
    {
     "data": {
      "image/png": "[encoded data removed]",
      "text/plain": [
       "<Figure size 432x288 with 1 Axes>"
      ]
     },
     "metadata": {
      "needs_background": "light"
     },
     "output_type": "display_data"
    }
   ],
   "source": [
    "# Explore data\n",
    "show5(train_loader)"
   ]
  },
  {
   "cell_type": "markdown",
   "metadata": {},
   "source": []
  },
  {
   "cell_type": "markdown",
   "metadata": {},
   "source": [
    "## Build your Neural Network\n",
    "Using the layers in `torch.nn` (which has been imported as `nn`) and the `torch.nn.functional` module (imported as `F`), construct a neural network based on the parameters of the dataset.\n",
    "Use any architecture you like. \n",
    "\n",
    "*Note*: If you did not flatten your tensors in your transforms or as part of your preprocessing and you are using only `Linear` layers, make sure to use the `Flatten` layer in your network!"
   ]
  },
  {
   "cell_type": "code",
   "execution_count": 15,
   "metadata": {},
   "outputs": [],
   "source": [
    "class Net(nn.Module):\n",
    "    def __init__(self):\n",
    "        super().__init__()\n",
    "        self.activation = F.relu\n",
    "        self.layer1 = nn.Linear(28 * 28 * 1, 256)\n",
    "        self.layer2 = nn.Linear(256, 128)\n",
    "        self.layer3 = nn.Linear(128, 64)\n",
    "        self.layer4 = nn.Linear(64, 10)\n",
    "        \n",
    "    def forward(self, x):\n",
    "        x = self.activation(self.layer1(x))\n",
    "        x = self.activation(self.layer2(x))\n",
    "        x = self.activation(self.layer3(x))\n",
    "        x = self.layer4(x) # Output logits without softmax, since we use CrossEntropyLoss\n",
    "        return x"
   ]
  },
  {
   "cell_type": "markdown",
   "metadata": {},
   "source": [
    "Specify a loss function and an optimizer, and instantiate the model.\n",
    "\n",
    "If you use a less common loss function, please note why you chose that loss function in a comment."
   ]
  },
  {
   "cell_type": "code",
   "execution_count": 22,
   "metadata": {},
   "outputs": [],
   "source": [
    "net = Net()\n",
    "\n",
    "optimizer = optim.SGD(net.parameters(), lr=0.01, momentum=0.9, weight_decay=0.001) # We use SGD instead of Adam because of the small dataset.\n",
    "criterion = nn.CrossEntropyLoss() # Combines LogSoftmax and NLLLoss in one single class, so it is efficient."
   ]
  },
  {
   "cell_type": "markdown",
   "metadata": {},
   "source": [
    "## Running your Neural Network\n",
    "Use whatever method you like to train your neural network, and ensure you record the average loss at each epoch. \n",
    "Don't forget to use `torch.device()` and the `.to()` method for both your model and your data if you are using GPU!\n",
    "\n",
    "If you want to print your loss **during** each epoch, you can use the `enumerate` function and print the loss after a set number of batches. 250 batches works well for most people!"
   ]
  },
  {
   "cell_type": "code",
   "execution_count": 23,
   "metadata": {},
   "outputs": [
    {
     "data": {
      "text/plain": [
       "Net(\n",
       "  (layer1): Linear(in_features=784, out_features=256, bias=True)\n",
       "  (layer2): Linear(in_features=256, out_features=128, bias=True)\n",
       "  (layer3): Linear(in_features=128, out_features=64, bias=True)\n",
       "  (layer4): Linear(in_features=64, out_features=10, bias=True)\n",
       ")"
      ]
     },
     "execution_count": 23,
     "metadata": {},
     "output_type": "execute_result"
    }
   ],
   "source": [
    "# Move the model to the GPU if CUDA is available\n",
    "device = torch.device(\"cuda:0\" if torch.cuda.is_available() else \"cpu\")\n",
    "net.to(device)"
   ]
  },
  {
   "cell_type": "code",
   "execution_count": 24,
   "metadata": {},
   "outputs": [
    {
     "name": "stdout",
     "output_type": "stream",
     "text": [
      "Epoch 1 training accuracy: 69.85% training loss: 0.90466\n",
      "Epoch 1 validation accuracy: 87.93% validation loss: 0.39020\n",
      "Epoch 2 training accuracy: 90.89% training loss: 0.30154\n",
      "Epoch 2 validation accuracy: 90.62% validation loss: 0.30595\n",
      "Epoch 3 training accuracy: 93.43% training loss: 0.21637\n",
      "Epoch 3 validation accuracy: 93.62% validation loss: 0.21112\n",
      "Epoch 4 training accuracy: 94.95% training loss: 0.16649\n",
      "Epoch 4 validation accuracy: 94.84% validation loss: 0.16621\n",
      "Epoch 5 training accuracy: 95.84% training loss: 0.13637\n",
      "Epoch 5 validation accuracy: 94.53% validation loss: 0.17280\n",
      "Epoch 6 training accuracy: 96.49% training loss: 0.11621\n",
      "Epoch 6 validation accuracy: 96.08% validation loss: 0.12930\n",
      "Epoch 7 training accuracy: 96.88% training loss: 0.10227\n",
      "Epoch 7 validation accuracy: 96.51% validation loss: 0.11485\n",
      "Epoch 8 training accuracy: 97.36% training loss: 0.08726\n",
      "Epoch 8 validation accuracy: 96.52% validation loss: 0.11322\n",
      "Epoch 9 training accuracy: 97.50% training loss: 0.08120\n",
      "Epoch 9 validation accuracy: 96.37% validation loss: 0.11723\n",
      "Epoch 10 training accuracy: 97.75% training loss: 0.07249\n",
      "Epoch 10 validation accuracy: 96.82% validation loss: 0.11111\n",
      "Epoch 11 training accuracy: 97.84% training loss: 0.07224\n",
      "Epoch 11 validation accuracy: 96.63% validation loss: 0.11152\n",
      "Epoch 12 training accuracy: 97.92% training loss: 0.06720\n",
      "Epoch 12 validation accuracy: 96.87% validation loss: 0.09962\n",
      "Epoch 13 training accuracy: 98.27% training loss: 0.05627\n",
      "Epoch 13 validation accuracy: 96.98% validation loss: 0.09982\n",
      "Epoch 14 training accuracy: 98.41% training loss: 0.05134\n",
      "Epoch 14 validation accuracy: 97.31% validation loss: 0.09016\n",
      "Epoch 15 training accuracy: 98.57% training loss: 0.04629\n",
      "Epoch 15 validation accuracy: 97.24% validation loss: 0.09028\n",
      "Epoch 16 training accuracy: 98.67% training loss: 0.04505\n",
      "Epoch 16 validation accuracy: 96.93% validation loss: 0.10679\n",
      "Epoch 17 training accuracy: 98.79% training loss: 0.04250\n",
      "Epoch 17 validation accuracy: 97.01% validation loss: 0.09538\n",
      "Epoch 18 training accuracy: 98.88% training loss: 0.03792\n",
      "Epoch 18 validation accuracy: 96.88% validation loss: 0.10854\n",
      "Epoch 19 training accuracy: 98.95% training loss: 0.03607\n",
      "Epoch 19 validation accuracy: 97.26% validation loss: 0.08708\n",
      "Epoch 20 training accuracy: 99.05% training loss: 0.03491\n",
      "Epoch 20 validation accuracy: 96.98% validation loss: 0.10403\n"
     ]
    }
   ],
   "source": [
    "# number of epochs\n",
    "num_epochs = 20\n",
    "\n",
    "# creating lists for loss history\n",
    "train_loss_history = list()\n",
    "val_loss_history = list()\n",
    "\n",
    "# The start of the training\n",
    "for epoch in range(num_epochs):\n",
    "    # putting the model in training mode\n",
    "    net.train()\n",
    "    # setting the epoch loss and number of correct predictions to zero\n",
    "    train_loss = 0.0\n",
    "    train_correct = 0\n",
    "    total_predictions = 0\n",
    "    \n",
    "    for i, data in enumerate(train_loader):\n",
    "        inputs, labels = data\n",
    "        \n",
    "        if torch.cuda.is_available():\n",
    "            inputs, labels = inputs.to(device), labels.to(device)\n",
    "    \n",
    "        optimizer.zero_grad() # zero the parameter gradients\n",
    "    \n",
    "        outputs = net(inputs) # forward pass\n",
    "    \n",
    "        loss = criterion(outputs, labels) # compute the loss\n",
    "        loss.backward() # compute gradient of the loss with respect to model parameters\n",
    "\n",
    "        optimizer.step() # update the parameters\n",
    "    \n",
    "        _, preds = torch.max(outputs.data, 1)\n",
    "        total_predictions += labels.size(0)\n",
    "        train_correct += (preds == labels).sum().item()\n",
    "        train_loss += loss.item()\n",
    "        \n",
    "    print(f\"Epoch {epoch + 1} training accuracy: {train_correct/total_predictions * 100:.2f}% training loss: {train_loss/len(train_loader):.5f}\")\n",
    "    train_loss_history.append(train_loss/len(train_loader))\n",
    "    \n",
    "    # The validation phase\n",
    "    val_loss = 0.0\n",
    "    val_correct = 0\n",
    "    total_predictions = 0\n",
    "\n",
    "    # setting the model to evaluation mode\n",
    "    net.eval()\n",
    "    with torch.no_grad():\n",
    "        for inputs, labels in val_loader:\n",
    "            if torch.cuda.is_available():\n",
    "                inputs, labels = inputs.to(device), labels.to(device)\n",
    "            \n",
    "            outputs = net(inputs)\n",
    "            loss = criterion(outputs, labels)\n",
    "            \n",
    "            _, preds = torch.max(outputs.data, 1)\n",
    "            total_predictions += labels.size(0)\n",
    "            val_correct += (preds == labels).sum().item()\n",
    "            val_loss += loss.item()\n",
    "        print(f\"Epoch {epoch + 1} validation accuracy: {val_correct/total_predictions * 100:.2f}% validation loss: {val_loss/len(val_loader):.5f}\")\n",
    "        val_loss_history.append(val_loss/len(val_loader))"
   ]
  },
  {
   "cell_type": "markdown",
   "metadata": {},
   "source": [
    "Plot the training loss (and validation loss/accuracy, if recorded)."
   ]
  },
  {
   "cell_type": "code",
   "execution_count": 25,
   "metadata": {},
   "outputs": [
    {
     "data": {
      "image/png": "[encoded data removed]",
      "text/plain": [
       "<Figure size 432x288 with 1 Axes>"
      ]
     },
     "metadata": {
      "needs_background": "light"
     },
     "output_type": "display_data"
    }
   ],
   "source": [
    "plt.plot(train_loss_history, label=\"Training Loss\")\n",
    "plt.plot(val_loss_history, label=\"Validation Loss\")\n",
    "plt.legend()\n",
    "plt.show()"
   ]
  },
  {
   "cell_type": "markdown",
   "metadata": {},
   "source": [
    "## Testing your model\n",
    "Using the previously created `DataLoader` for the test set, compute the percentage of correct predictions using the highest probability prediction. \n",
    "\n",
    "If your accuracy is over 90%, great work, but see if you can push a bit further! \n",
    "If your accuracy is under 90%, you'll need to make improvements.\n",
    "Go back and check your model architecture, loss function, and optimizer to make sure they're appropriate for an image classification task."
   ]
  },
  {
   "cell_type": "code",
   "execution_count": 26,
   "metadata": {},
   "outputs": [
    {
     "name": "stdout",
     "output_type": "stream",
     "text": [
      "Accuracy: 96.99%\n"
     ]
    }
   ],
   "source": [
    "correct_predictions = 0\n",
    "total_predictions = 0\n",
    "\n",
    "for inputs, labels in test_loader:\n",
    "    if torch.cuda.is_available():\n",
    "        inputs, labels = inputs.to(device), labels.to(device)\n",
    "        \n",
    "    outputs = net(inputs)\n",
    "    _, preds = torch.max(outputs.data, 1)\n",
    "    total_predictions += labels.size(0)\n",
    "    correct_predictions += (preds == labels).sum().item()\n",
    "    accuracy = (correct_predictions / total_predictions) * 100\n",
    "    \n",
    "print(f\"Accuracy: {accuracy:.2f}%\")"
   ]
  },
  {
   "cell_type": "markdown",
   "metadata": {},
   "source": [
    "## Improving your model\n",
    "\n",
    "Once your model is done training, try tweaking your hyperparameters and training again below to improve your accuracy on the test set!"
   ]
  },
  {
   "cell_type": "markdown",
   "metadata": {},
   "source": [
    "The training accuracy  of 99.05% is higher than the validation accuracy of 97.3%, which means that the model is slightly overfitting. Additionally, the model appears to converge by epoch 13-15, as validation accuracy and loss remain relatively stable."
   ]
  },
  {
   "cell_type": "code",
   "execution_count": 41,
   "metadata": {},
   "outputs": [],
   "source": [
    "\n",
    "from torch.optim import AdamW\n",
    "\n",
    "\n",
    "# exprimenting with the loss function\n",
    "net = Net()\n",
    "\n",
    "# Move the model to the GPU if CUDA is available\n",
    "device = torch.device(\"cuda:0\" if torch.cuda.is_available() else \"cpu\")\n",
    "net.to(device)\n",
    "\n",
    "optimizer = AdamW(net.parameters(), lr=0.001, weight_decay=0.001)  # Weight decay for regularization\n",
    "criterion = nn.CrossEntropyLoss() # Combines LogSoftmax and NLLLoss in one single class, so it is efficient."
   ]
  },
  {
   "cell_type": "code",
   "execution_count": 42,
   "metadata": {},
   "outputs": [
    {
     "name": "stdout",
     "output_type": "stream",
     "text": [
      "Epoch 1 training accuracy: 83.84% training loss: 0.52206\n",
      "Epoch 1 validation accuracy: 91.65% validation loss: 0.27935\n",
      "Epoch 2 training accuracy: 92.88% training loss: 0.23430\n",
      "Epoch 2 validation accuracy: 93.53% validation loss: 0.20846\n",
      "Epoch 3 training accuracy: 94.71% training loss: 0.17247\n",
      "Epoch 3 validation accuracy: 95.17% validation loss: 0.15905\n",
      "Epoch 4 training accuracy: 96.05% training loss: 0.12858\n",
      "Epoch 4 validation accuracy: 95.58% validation loss: 0.14395\n",
      "Epoch 5 training accuracy: 96.77% training loss: 0.10281\n",
      "Epoch 5 validation accuracy: 96.09% validation loss: 0.12992\n",
      "Epoch 6 training accuracy: 97.23% training loss: 0.08758\n",
      "Epoch 6 validation accuracy: 96.73% validation loss: 0.11018\n",
      "Epoch 7 training accuracy: 97.59% training loss: 0.07552\n",
      "Epoch 7 validation accuracy: 96.67% validation loss: 0.11279\n",
      "Epoch 8 training accuracy: 97.81% training loss: 0.06799\n",
      "Epoch 8 validation accuracy: 96.74% validation loss: 0.11098\n",
      "Epoch 9 training accuracy: 98.07% training loss: 0.05806\n",
      "Epoch 9 validation accuracy: 96.83% validation loss: 0.10871\n",
      "Epoch 10 training accuracy: 98.30% training loss: 0.05257\n",
      "Epoch 10 validation accuracy: 96.18% validation loss: 0.13098\n",
      "Epoch 11 training accuracy: 98.42% training loss: 0.04618\n",
      "Epoch 11 validation accuracy: 97.13% validation loss: 0.10083\n",
      "Epoch 12 training accuracy: 98.56% training loss: 0.04292\n",
      "Epoch 12 validation accuracy: 96.96% validation loss: 0.11214\n",
      "Epoch 13 training accuracy: 98.69% training loss: 0.03896\n",
      "Epoch 13 validation accuracy: 97.09% validation loss: 0.10979\n",
      "Epoch 14 training accuracy: 98.73% training loss: 0.03875\n",
      "Epoch 14 validation accuracy: 96.99% validation loss: 0.11129\n",
      "Early stopping triggered at epoch 14\n"
     ]
    }
   ],
   "source": [
    "# Early stopping parameters\n",
    "patience = 3  # Stop after 3 epochs of no improvement\n",
    "best_val_loss = float('inf')  # Initialize best validation loss\n",
    "stop_counter = 0  # Counter for epochs with no improvement\n",
    "\n",
    "# Number of epochs\n",
    "num_epochs = 16\n",
    "\n",
    "# Lists for loss history\n",
    "train_loss_history = []\n",
    "val_loss_history = []\n",
    "\n",
    "# Training loop\n",
    "for epoch in range(num_epochs):\n",
    "    # Training phase\n",
    "    net.train()\n",
    "    train_loss = 0.0\n",
    "    train_correct = 0\n",
    "    \n",
    "    for i, data in enumerate(train_loader):\n",
    "        inputs, labels = data\n",
    "        \n",
    "        if torch.cuda.is_available():\n",
    "            inputs, labels = inputs.to(device), labels.to(device)\n",
    "    \n",
    "        optimizer.zero_grad()\n",
    "        outputs = net(inputs)\n",
    "        loss = criterion(outputs, labels)\n",
    "        loss.backward()\n",
    "        optimizer.step()\n",
    "        \n",
    "        _, preds = torch.max(outputs.data, 1)\n",
    "        train_correct += (preds == labels).sum().item()\n",
    "        train_loss += loss.item()\n",
    "        \n",
    "    train_accuracy = train_correct / len(train_loader.dataset) * 100\n",
    "    train_loss /= len(train_loader)\n",
    "    train_loss_history.append(train_loss)\n",
    "    \n",
    "    print(f\"Epoch {epoch + 1} training accuracy: {train_accuracy:.2f}% training loss: {train_loss:.5f}\")\n",
    "    \n",
    "    # Validation phase\n",
    "    net.eval()\n",
    "    val_loss = 0.0\n",
    "    val_correct = 0\n",
    "    with torch.no_grad():\n",
    "        for inputs, labels in val_loader:\n",
    "            if torch.cuda.is_available():\n",
    "                inputs, labels = inputs.to(device), labels.to(device)\n",
    "            \n",
    "            outputs = net(inputs)\n",
    "            loss = criterion(outputs, labels)\n",
    "            \n",
    "            _, preds = torch.max(outputs.data, 1)\n",
    "            val_correct += (preds == labels).sum().item()\n",
    "            val_loss += loss.item()\n",
    "    \n",
    "    val_accuracy = val_correct / len(val_loader.dataset) * 100\n",
    "    val_loss /= len(val_loader)\n",
    "    val_loss_history.append(val_loss)\n",
    "    \n",
    "    print(f\"Epoch {epoch + 1} validation accuracy: {val_accuracy:.2f}% validation loss: {val_loss:.5f}\")\n",
    "    \n",
    "    # Early stopping logic\n",
    "    if val_loss < best_val_loss:\n",
    "        best_val_loss = val_loss  # Update best loss\n",
    "        stop_counter = 0  # Reset counter\n",
    "    else:\n",
    "        stop_counter += 1  # Increment counter if no improvement\n",
    "    \n",
    "    if stop_counter >= patience:\n",
    "        print(f\"Early stopping triggered at epoch {epoch + 1}\")\n",
    "        break\n"
   ]
  },
  {
   "cell_type": "markdown",
   "metadata": {},
   "source": [
    "## Final accuracy after tweaking the model\n"
   ]
  },
  {
   "cell_type": "code",
   "execution_count": 43,
   "metadata": {},
   "outputs": [
    {
     "name": "stdout",
     "output_type": "stream",
     "text": [
      "Accuracy: 96.92%\n"
     ]
    }
   ],
   "source": [
    "correct_predictions = 0\n",
    "total_predictions = 0\n",
    "\n",
    "for inputs, labels in test_loader:\n",
    "    if torch.cuda.is_available():\n",
    "        inputs, labels = inputs.to(device), labels.to(device)\n",
    "        \n",
    "    outputs = net(inputs)\n",
    "    _, preds = torch.max(outputs.data, 1)\n",
    "    total_predictions += labels.size(0)\n",
    "    correct_predictions += (preds == labels).sum().item()\n",
    "    accuracy = (correct_predictions / total_predictions) * 100\n",
    "    \n",
    "print(f\"Accuracy: {accuracy:.2f}%\")"
   ]
  },
  {
   "cell_type": "markdown",
   "metadata": {},
   "source": [
    "## Saving your model\n",
    "Using `torch.save`, save your model for future loading."
   ]
  },
  {
   "cell_type": "code",
   "execution_count": 44,
   "metadata": {},
   "outputs": [],
   "source": [
    "torch.save(net.state_dict(), \"saved_model.pth\")"
   ]
  },
  {
   "cell_type": "markdown",
   "metadata": {},
   "source": [
    "# Implementing sanity checking\n"
   ]
  },
  {
   "cell_type": "markdown",
   "metadata": {},
   "source": [
    "**This part was implemented later. So, to avoid training the model again, we will load the the already trained checkpoint right away**"
   ]
  },
  {
   "cell_type": "code",
   "execution_count": 45,
   "metadata": {},
   "outputs": [
    {
     "name": "stdout",
     "output_type": "stream",
     "text": [
      "Model loaded successfully (full state dictionary).\n"
     ]
    },
    {
     "name": "stderr",
     "output_type": "stream",
     "text": [
      "<ipython-input-45-50ef9494e2b8>:6: FutureWarning: You are using `torch.load` with `weights_only=False` (the current default value), which uses the default pickle module implicitly. It is possible to construct malicious pickle data which will execute arbitrary code during unpickling (See https://github.com/pytorch/pytorch/blob/main/SECURITY.md#untrusted-models for more details). In a future release, the default value for `weights_only` will be flipped to `True`. This limits the functions that could be executed during unpickling. Arbitrary objects will no longer be allowed to be loaded via this mode unless they are explicitly allowlisted by the user via `torch.serialization.add_safe_globals`. We recommend you start setting `weights_only=True` for any use case where you don't have full control of the loaded file. Please open an issue on GitHub for any issues related to this experimental feature.\n",
      "  checkpoint = torch.load(model_path)\n"
     ]
    },
    {
     "data": {
      "text/plain": [
       "Net(\n",
       "  (layer1): Linear(in_features=784, out_features=256, bias=True)\n",
       "  (layer2): Linear(in_features=256, out_features=128, bias=True)\n",
       "  (layer3): Linear(in_features=128, out_features=64, bias=True)\n",
       "  (layer4): Linear(in_features=64, out_features=10, bias=True)\n",
       ")"
      ]
     },
     "execution_count": 45,
     "metadata": {},
     "output_type": "execute_result"
    }
   ],
   "source": [
    "# Assuming your model class is called Net\n",
    "net = Net()\n",
    "\n",
    "# Load the saved model\n",
    "model_path = \"saved_model.pth\"\n",
    "checkpoint = torch.load(model_path)\n",
    "\n",
    "# Check if the 'model_state_dict' key is present in the checkpoint\n",
    "if 'model_state_dict' in checkpoint:\n",
    "    # Load the model's state_dict\n",
    "    net.load_state_dict(checkpoint['model_state_dict'])\n",
    "    print(\"Model loaded successfully.\")\n",
    "else:\n",
    "    # If the key is not present, try loading the entire state dictionary\n",
    "    net.load_state_dict(checkpoint)\n",
    "    print(\"Model loaded successfully (full state dictionary).\")\n",
    "\n",
    "# If you also saved optimizer state, you can load it as well\n",
    "if 'optimizer_state_dict' in checkpoint:\n",
    "    optimizer.load_state_dict(checkpoint['optimizer_state_dict'])\n",
    "\n",
    "# If you saved other information such as training epochs or loss history, you can load them too\n",
    "# For example, if you saved the number of epochs\n",
    "if 'epoch' in checkpoint:\n",
    "    epoch = checkpoint['epoch']\n",
    "\n",
    "# Move the model to the appropriate device (CPU or GPU)\n",
    "device = torch.device(\"cuda:0\" if torch.cuda.is_available() else \"cpu\")\n",
    "net.to(device)\n",
    "net.eval()\n"
   ]
  },
  {
   "cell_type": "markdown",
   "metadata": {},
   "source": [
    "## Visualizing the predications (actual vs predicted)"
   ]
  },
  {
   "cell_type": "code",
   "execution_count": 47,
   "metadata": {},
   "outputs": [
    {
     "data": {
      "image/png": "[encoded data removed]",
      "text/plain": [
       "<Figure size 432x288 with 1 Axes>"
      ]
     },
     "metadata": {
      "needs_background": "light"
     },
     "output_type": "display_data"
    },
    {
     "data": {
      "image/png": "[encoded data removed]",
      "text/plain": [
       "<Figure size 432x288 with 1 Axes>"
      ]
     },
     "metadata": {
      "needs_background": "light"
     },
     "output_type": "display_data"
    },
    {
     "data": {
      "image/png": "[encoded data removed]",
      "text/plain": [
       "<Figure size 432x288 with 1 Axes>"
      ]
     },
     "metadata": {
      "needs_background": "light"
     },
     "output_type": "display_data"
    },
    {
     "data": {
      "image/png": "[encoded data removed]",
      "text/plain": [
       "<Figure size 432x288 with 1 Axes>"
      ]
     },
     "metadata": {
      "needs_background": "light"
     },
     "output_type": "display_data"
    },
    {
     "data": {
      "image/png": "[encoded data removed]",
      "text/plain": [
       "<Figure size 432x288 with 1 Axes>"
      ]
     },
     "metadata": {
      "needs_background": "light"
     },
     "output_type": "display_data"
    },
    {
     "data": {
      "image/png": "[encoded data removed]",
      "text/plain": [
       "<Figure size 432x288 with 1 Axes>"
      ]
     },
     "metadata": {
      "needs_background": "light"
     },
     "output_type": "display_data"
    },
    {
     "data": {
      "image/png": "[encoded data removed]",
      "text/plain": [
       "<Figure size 432x288 with 1 Axes>"
      ]
     },
     "metadata": {
      "needs_background": "light"
     },
     "output_type": "display_data"
    },
    {
     "data": {
      "image/png": "[encoded data removed]",
      "text/plain": [
       "<Figure size 432x288 with 1 Axes>"
      ]
     },
     "metadata": {
      "needs_background": "light"
     },
     "output_type": "display_data"
    },
    {
     "data": {
      "image/png": "[encoded data removed]",
      "text/plain": [
       "<Figure size 432x288 with 1 Axes>"
      ]
     },
     "metadata": {
      "needs_background": "light"
     },
     "output_type": "display_data"
    },
    {
     "data": {
      "image/png": "[encoded data removed]",
      "text/plain": [
       "<Figure size 432x288 with 1 Axes>"
      ]
     },
     "metadata": {
      "needs_background": "light"
     },
     "output_type": "display_data"
    },
    {
     "data": {
      "image/png": "[encoded data removed]",
      "text/plain": [
       "<Figure size 432x288 with 1 Axes>"
      ]
     },
     "metadata": {
      "needs_background": "light"
     },
     "output_type": "display_data"
    },
    {
     "data": {
      "image/png": "[encoded data removed]",
      "text/plain": [
       "<Figure size 432x288 with 1 Axes>"
      ]
     },
     "metadata": {
      "needs_background": "light"
     },
     "output_type": "display_data"
    },
    {
     "data": {
      "image/png": "[encoded data removed]",
      "text/plain": [
       "<Figure size 432x288 with 1 Axes>"
      ]
     },
     "metadata": {
      "needs_background": "light"
     },
     "output_type": "display_data"
    },
    {
     "data": {
      "image/png": "[encoded data removed]",
      "text/plain": [
       "<Figure size 432x288 with 1 Axes>"
      ]
     },
     "metadata": {
      "needs_background": "light"
     },
     "output_type": "display_data"
    },
    {
     "data": {
      "image/png": "[encoded data removed]",
      "text/plain": [
       "<Figure size 432x288 with 1 Axes>"
      ]
     },
     "metadata": {
      "needs_background": "light"
     },
     "output_type": "display_data"
    }
   ],
   "source": [
    "import matplotlib.pyplot as plt\n",
    "import numpy as np\n",
    "import random\n",
    "import torch\n",
    "\n",
    "def visualize_results(model, dataloader, device):\n",
    "    model.eval()\n",
    "\n",
    "    # Get the total number of samples in the dataset\n",
    "    total_samples = len(dataloader.dataset)\n",
    "\n",
    "    # Randomly select 15 indices\n",
    "    random_indices = random.sample(range(total_samples), 15)\n",
    "\n",
    "    with torch.no_grad():\n",
    "        for idx in random_indices:\n",
    "            inputs, labels = dataloader.dataset[idx]\n",
    "            \n",
    "            # Reshape inputs to match model input and send to device\n",
    "            inputs = inputs.unsqueeze(0).to(device)  # Add batch dimension\n",
    "            labels = torch.tensor([labels]).to(device)\n",
    "\n",
    "            # Model prediction\n",
    "            outputs = model(inputs)\n",
    "            _, preds = torch.max(outputs, 1)\n",
    "\n",
    "            # Convert tensors to NumPy arrays\n",
    "            inputs = inputs.cpu().numpy().reshape(28, 28)  # Reshape from 1D to 28x28\n",
    "            labels = labels.cpu().numpy()\n",
    "            preds = preds.cpu().numpy()\n",
    "\n",
    "            # Display the sample\n",
    "            plt.imshow(inputs, cmap='gray')  # Show the reshaped image\n",
    "            plt.title(f\"Actual: {labels.item()}, Predicted: {preds[0]}\")\n",
    "            plt.axis('off')\n",
    "            plt.show()\n",
    "\n",
    "# Call the function with the model and the test dataloader\n",
    "visualize_results(net, test_loader, device)\n"
   ]
  },
  {
   "cell_type": "markdown",
   "metadata": {},
   "source": [
    "## Confusion matrix"
   ]
  },
  {
   "cell_type": "code",
   "execution_count": 49,
   "metadata": {},
   "outputs": [
    {
     "data": {
      "image/png": "[encoded data removed]",
      "text/plain": [
       "<Figure size 576x432 with 1 Axes>"
      ]
     },
     "metadata": {
      "needs_background": "light"
     },
     "output_type": "display_data"
    }
   ],
   "source": [
    "# Initialize variables\n",
    "total_predictions = 0\n",
    "correct_predictions = 0\n",
    "all_preds = []\n",
    "all_labels = []\n",
    "for inputs, labels in test_loader:\n",
    "    if torch.cuda.is_available():\n",
    "        inputs, labels = inputs.to(device), labels.to(device)\n",
    "        \n",
    "    outputs = net(inputs)\n",
    "    _, preds = torch.max(outputs.data, 1)\n",
    "    \n",
    "    total_predictions += labels.size(0)\n",
    "    correct_predictions += (preds == labels).sum().item()\n",
    "    \n",
    "    # Append predictions and labels for confusion matrix\n",
    "    all_preds.extend(preds.cpu().numpy())\n",
    "    all_labels.extend(labels.cpu().numpy())\n",
    "\n",
    "# Create a confusion matrix\n",
    "conf_matrix = confusion_matrix(all_labels, all_preds)\n",
    "\n",
    "# Plot the confusion matrix\n",
    "plt.figure(figsize=(8, 6))\n",
    "sns.heatmap(conf_matrix, annot=True, fmt='g', cmap='Blues', cbar=False)\n",
    "plt.xlabel('Predicted')\n",
    "plt.ylabel('True')\n",
    "plt.title('Confusion Matrix')\n",
    "plt.show()"
   ]
  }
 ],
 "metadata": {
  "kernelspec": {
   "display_name": "usr",
   "language": "python",
   "name": "python3"
  },
  "language_info": {
   "codemirror_mode": {
    "name": "ipython",
    "version": 3
   },
   "file_extension": ".py",
   "mimetype": "text/x-python",
   "name": "python",
   "nbconvert_exporter": "python",
   "pygments_lexer": "ipython3",
   "version": "3.8.10"
  }
 },
 "nbformat": 4,
 "nbformat_minor": 4
}
